{
 "cells": [
  {
   "cell_type": "markdown",
   "id": "9d39262f-120b-4add-b73a-deee0a24aecd",
   "metadata": {},
   "source": [
    "## Data Analytics using Python - NIEILIT\n"
   ]
  },
  {
   "cell_type": "markdown",
   "id": "388a13b2-97f4-4a68-956d-eafe158754ad",
   "metadata": {},
   "source": [
    "1. Write a script to reverse a given sentence without reversing\n",
    "words.\n"
   ]
  },
  {
   "cell_type": "code",
   "execution_count": null,
   "id": "93c8d774-8536-434d-b712-8f8163237c79",
   "metadata": {},
   "outputs": [],
   "source": [
    "## Add the sample sentence\n",
    "sentence = input(\"Add you sentence here: \")"
   ]
  },
  {
   "cell_type": "code",
   "execution_count": null,
   "id": "118703fb-01fc-4829-adf8-e183c19bc623",
   "metadata": {},
   "outputs": [],
   "source": [
    "## Split the sentence into words\n",
    "words = sentence.split()"
   ]
  },
  {
   "cell_type": "code",
   "execution_count": null,
   "id": "212b661c-3dcc-4198-ba92-287c17ac2ae7",
   "metadata": {},
   "outputs": [],
   "source": [
    "## Reverse the words\n",
    "rev_words = words[::-1]"
   ]
  },
  {
   "cell_type": "code",
   "execution_count": null,
   "id": "da98dc1e-3742-4230-bdc4-d354304530e4",
   "metadata": {},
   "outputs": [],
   "source": [
    "## Join the reversed sequence of words into a new sentence of reversed sequence\n",
    "rev_sentence = ' '.join(rev_words)"
   ]
  },
  {
   "cell_type": "code",
   "execution_count": null,
   "id": "47e129c7-cc3a-437c-a094-f349ceea9da1",
   "metadata": {},
   "outputs": [],
   "source": [
    "## Print the reversed sentence\n",
    "print(\"Reversed sentence without reversing words: \", rev_sentence)"
   ]
  },
  {
   "cell_type": "markdown",
   "id": "5128cf96-6f11-4b6c-a14a-025f6f39d979",
   "metadata": {},
   "source": [
    "2. Write a script to print the no. of palindrome words in a given\n",
    "sentence."
   ]
  },
  {
   "cell_type": "code",
   "execution_count": null,
   "id": "0ce3e253-6b0a-4a71-9dab-85a5fd017e81",
   "metadata": {},
   "outputs": [],
   "source": [
    "## Insert the sample sentence to check for palincdromic sequence\n",
    "sentence = input(\"Enter the sample sentence here: \")"
   ]
  },
  {
   "cell_type": "code",
   "execution_count": null,
   "id": "ab0e85b9-3e40-4b72-af0a-745d8f7ec4ae",
   "metadata": {},
   "outputs": [],
   "source": [
    "## Split the sentence into words\n",
    "words = sentence.split()"
   ]
  },
  {
   "cell_type": "code",
   "execution_count": null,
   "id": "88c504f4-3464-44f1-ae91-817b200fa169",
   "metadata": {},
   "outputs": [],
   "source": [
    "## Set the first palindrome count\n",
    "pal_cnt = 0"
   ]
  },
  {
   "cell_type": "code",
   "execution_count": null,
   "id": "22f4946d-a17e-45d1-9f38-55575c889456",
   "metadata": {},
   "outputs": [],
   "source": [
    "## Check wach word to find out if any palindromic sequences exist\n",
    "## NOTE: Convert all words to lower cases before eavluation for palindromic sequences\n",
    "for words in words: \n",
    "    lr_case_ = ' '.join(char.lower() for char in words if char.isalnum())\n",
    "    if lr_case_ == lr_case_[::-1] and lr_case_ != '':\n",
    "        pal_cnt += 1"
   ]
  },
  {
   "cell_type": "code",
   "execution_count": null,
   "id": "93a902b6-a9d4-42f9-b13e-ce2e08abe882",
   "metadata": {},
   "outputs": [],
   "source": [
    "## Print the final output\n",
    "print(\"Number of palindromic words: \", pal_cnt)"
   ]
  },
  {
   "cell_type": "markdown",
   "id": "f4b5a328-625c-48f2-b936-2e1c81f9cd97",
   "metadata": {},
   "source": [
    "3. Write a script to count `letters` in a given _string_ (using dict).\n"
   ]
  },
  {
   "cell_type": "code",
   "execution_count": null,
   "id": "8fbfc973-5246-46b8-8517-32e856bc4b3f",
   "metadata": {},
   "outputs": [],
   "source": [
    "## Input the string \n",
    "str = input(\"Enter the string: \")"
   ]
  },
  {
   "cell_type": "code",
   "execution_count": null,
   "id": "855c7942-99e3-4425-b716-f005e6dbb0d2",
   "metadata": {},
   "outputs": [],
   "source": [
    "## Start an empty dictionary to add the strings into it alongside letter counts\n",
    "## The key will be denoted by the letter and the count value will denote the number of times a letter was repeated\n",
    "let_cnt = {}"
   ]
  },
  {
   "cell_type": "code",
   "execution_count": null,
   "id": "e558d8c5-d599-40a1-ac9d-f58dbdb73d6a",
   "metadata": {},
   "outputs": [],
   "source": [
    "## Iterate through each character in the string\n",
    "for char in str:\n",
    "    if char.isalpha(): ## Make sure that the character is an alphabet\n",
    "        char = char.lower() ## Convert the character to lower case for uniformity\n",
    "        if char in let_cnt:\n",
    "            let_cnt [char] += 1\n",
    "        else:\n",
    "            let_cnt [char] = 1"
   ]
  },
  {
   "cell_type": "code",
   "execution_count": null,
   "id": "faade30d-594c-4716-a86a-116106b11cee",
   "metadata": {},
   "outputs": [],
   "source": [
    "## Print the dictionary\n",
    "print(\"Output: \", let_cnt)"
   ]
  },
  {
   "cell_type": "markdown",
   "id": "dd21f761-f132-4718-ba87-c754cb70bb7d",
   "metadata": {},
   "source": [
    "4. Write a script to count `words` in a given _sentence_ (using dict).\n"
   ]
  },
  {
   "cell_type": "code",
   "execution_count": null,
   "id": "5d42c057-f846-457d-b2ba-4cd44ae2ed65",
   "metadata": {},
   "outputs": [],
   "source": [
    "## This is a compiled code \n",
    "sent = input(\"Enter the sentence here: \")\n",
    "words = sent.split()\n",
    "dict = {}\n",
    "for words in words: \n",
    "    if words.isalpha():\n",
    "        words = words.lower()\n",
    "        if words in dict: \n",
    "            dict[words] +=1\n",
    "        else: \n",
    "            dict [words] = 1\n",
    "print(\"Output: \", dict)"
   ]
  },
  {
   "cell_type": "markdown",
   "id": "8b347219-9ee6-4a38-b1c5-3c19e2b7f38c",
   "metadata": {},
   "source": [
    "5. Write a menu based program to manage BankAccounts using class\n",
    "concept (develop your own logic) with the following features.\n",
    "- account number - data(instance)\n",
    "- account balance - data(instance)\n",
    "- account type -data(instance)\n",
    "- number of accounts-data(class)\n",
    "- account holder name-data(instance)\n",
    "- account holder address-data(instance)\n",
    "- methods for deposit,withdraw,setting and getting account &\n",
    "    account holder details.\n",
    "\n",
    "(Note: you may create a list of bank account instances OR a dict of\n",
    "bank account instances with 'account no' as key in your program)"
   ]
  },
  {
   "cell_type": "code",
   "execution_count": null,
   "id": "700b5a4f-5ceb-475c-9cf0-2ea1e67eca38",
   "metadata": {},
   "outputs": [],
   "source": [
    "class BankAccount:\n",
    "    number_of_accounts = 0\n",
    "\n",
    "    def __init__(self, account_number, account_holder_name, account_holder_address, account_type, account_balance=0):\n",
    "        self.account_number = account_number\n",
    "        self.account_holder_name = account_holder_name\n",
    "        self.account_holder_address = account_holder_address\n",
    "        self.account_type = account_type\n",
    "        self.account_balance = account_balance\n",
    "        BankAccount.number_of_accounts += 1\n",
    "\n",
    "    def deposit(self, amount):\n",
    "        if amount > 0:\n",
    "            self.account_balance += amount\n",
    "            print(f\"Deposited ${amount}. New balance is ${self.account_balance}.\")\n",
    "        else:\n",
    "            print(\"Deposit amount must be positive.\")\n",
    "\n",
    "    def withdraw(self, amount):\n",
    "        if amount > 0:\n",
    "            if self.account_balance >= amount:\n",
    "                self.account_balance -= amount\n",
    "                print(f\"Withdrew ${amount}. New balance is ${self.account_balance}.\")\n",
    "            else:\n",
    "                print(\"Insufficient funds.\")\n",
    "        else:\n",
    "            print(\"Withdrawal amount must be positive.\")\n",
    "\n",
    "    def get_details(self):\n",
    "        return {\n",
    "            'Account Number': self.account_number,\n",
    "            'Account Holder Name': self.account_holder_name,\n",
    "            'Account Holder Address': self.account_holder_address,\n",
    "            'Account Type': self.account_type,\n",
    "            'Account Balance': self.account_balance\n",
    "        }\n",
    "\n",
    "    def set_details(self, name=None, address=None, account_type=None):\n",
    "        if name:\n",
    "            self.account_holder_name = name\n",
    "        if address:\n",
    "            self.account_holder_address = address\n",
    "        if account_type:\n",
    "            self.account_type = account_type\n",
    "\n",
    "### Menu-Based Interface\n",
    "\n",
    "\n",
    "def display_menu():\n",
    "    print(\"\\nBank Account Management System\")\n",
    "    print(\"1. Create Account\")\n",
    "    print(\"2. View Account Details\")\n",
    "    print(\"3. Deposit\")\n",
    "    print(\"4. Withdraw\")\n",
    "    print(\"5. Update Account Details\")\n",
    "    print(\"6. Exit\")\n",
    "\n",
    "accounts = {}\n",
    "\n",
    "def create_account():\n",
    "    account_number = input(\"Enter account number: \")\n",
    "    if account_number in accounts:\n",
    "        print(\"Account with this number already exists.\")\n",
    "        return\n",
    "    account_holder_name = input(\"Enter account holder name: \")\n",
    "    account_holder_address = input(\"Enter account holder address: \")\n",
    "    account_type = input(\"Enter account type (savings/checking): \")\n",
    "    account_balance = float(input(\"Enter initial deposit amount: \"))\n",
    "    accounts[account_number] = BankAccount(account_number, account_holder_name, account_holder_address, account_type, account_balance)\n",
    "    print(\"Account created successfully.\")\n",
    "\n",
    "def view_account_details():\n",
    "    account_number = input(\"Enter account number: \")\n",
    "    if account_number in accounts:\n",
    "        details = accounts[account_number].get_details()\n",
    "        for key, value in details.items():\n",
    "            print(f\"{key}: {value}\")\n",
    "    else:\n",
    "        print(\"Account not found.\")\n",
    "\n",
    "def deposit():\n",
    "    account_number = input(\"Enter account number: \")\n",
    "    if account_number in accounts:\n",
    "        amount = float(input(\"Enter amount to deposit: \"))\n",
    "        accounts[account_number].deposit(amount)\n",
    "    else:\n",
    "        print(\"Account not found.\")\n",
    "\n",
    "def withdraw():\n",
    "    account_number = input(\"Enter account number: \")\n",
    "    if account_number in accounts:\n",
    "        amount = float(input(\"Enter amount to withdraw: \"))\n",
    "        accounts[account_number].withdraw(amount)\n",
    "    else:\n",
    "        print(\"Account not found.\")\n",
    "\n",
    "def update_account_details():\n",
    "    account_number = input(\"Enter account number: \")\n",
    "    if account_number in accounts:\n",
    "        name = input(\"Enter new account holder name (press enter to skip): \")\n",
    "        address = input(\"Enter new account holder address (press enter to skip): \")\n",
    "        account_type = input(\"Enter new account type (savings/checking) (press enter to skip): \")\n",
    "        accounts[account_number].set_details(name, address, account_type)\n",
    "        print(\"Account details updated successfully.\")\n",
    "    else:\n",
    "        print(\"Account not found.\")\n",
    "\n",
    "while True:\n",
    "    display_menu()\n",
    "    choice = input(\"Enter your choice: \")\n",
    "    if choice == '1':\n",
    "        create_account()\n",
    "    elif choice == '2':\n",
    "        view_account_details()\n",
    "    elif choice == '3':\n",
    "        deposit()\n",
    "    elif choice == '4':\n",
    "        withdraw()\n",
    "    elif choice == '5':\n",
    "        update_account_details()\n",
    "    elif choice == '6':\n",
    "        print(\"Exiting...\")\n",
    "        break\n",
    "    else:\n",
    "        print(\"Invalid choice. Please try again.\")\n"
   ]
  }
 ],
 "metadata": {
  "kernelspec": {
   "display_name": "Python 3 (ipykernel)",
   "language": "python",
   "name": "python3"
  },
  "language_info": {
   "codemirror_mode": {
    "name": "ipython",
    "version": 3
   },
   "file_extension": ".py",
   "mimetype": "text/x-python",
   "name": "python",
   "nbconvert_exporter": "python",
   "pygments_lexer": "ipython3",
   "version": "3.11.7"
  }
 },
 "nbformat": 4,
 "nbformat_minor": 5
}
